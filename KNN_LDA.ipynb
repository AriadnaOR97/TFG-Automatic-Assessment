{
  "nbformat": 4,
  "nbformat_minor": 0,
  "metadata": {
    "colab": {
      "name": "KNN-LDA.ipynb",
      "version": "0.3.2",
      "provenance": [],
      "collapsed_sections": [
        "A2vkBWZMLG6C"
      ],
      "toc_visible": true
    },
    "kernelspec": {
      "name": "python3",
      "display_name": "Python 3"
    }
  },
  "cells": [
    {
      "cell_type": "markdown",
      "metadata": {
        "id": "yBanBta9K_iY",
        "colab_type": "text"
      },
      "source": [
        "# INTRODUCTION"
      ]
    },
    {
      "cell_type": "code",
      "metadata": {
        "id": "5QlPlQxRK56S",
        "colab_type": "code",
        "outputId": "20872c48-33ed-48dd-86c8-758ea066f539",
        "colab": {
          "base_uri": "https://localhost:8080/",
          "height": 102
        }
      },
      "source": [
        "# Basic tools\n",
        "import numpy as np\n",
        "import time\n",
        "import matplotlib.pyplot as plt\n",
        "import sys\n",
        "from numpy import argmax, mean, diff, log\n",
        "from matplotlib.mlab import find\n",
        "import matplotlib.patches as mpatches\n",
        "\n",
        "# Feature extraction\n",
        "import librosa \n",
        "!pip install soundfile\n",
        "import soundfile as sf\n",
        "\n",
        "# Data adquisition\n",
        "import pandas as pd\n",
        "\n",
        "# Learning\n",
        "from sklearn.discriminant_analysis import LinearDiscriminantAnalysis\n",
        "from sklearn.neighbors import KNeighborsClassifier\n",
        "from sklearn.metrics import classification_report, confusion_matrix \n",
        "\n",
        "print(\"\\nsoundfile installed. Necessary libraries imported.\")"
      ],
      "execution_count": 86,
      "outputs": [
        {
          "output_type": "stream",
          "text": [
            "Requirement already satisfied: soundfile in /usr/local/lib/python3.6/dist-packages (0.10.2)\n",
            "Requirement already satisfied: cffi>=1.0 in /usr/local/lib/python3.6/dist-packages (from soundfile) (1.12.3)\n",
            "Requirement already satisfied: pycparser in /usr/local/lib/python3.6/dist-packages (from cffi>=1.0->soundfile) (2.19)\n",
            "\n",
            "soundfile installed. Necessary libraries imported.\n"
          ],
          "name": "stdout"
        }
      ]
    },
    {
      "cell_type": "code",
      "metadata": {
        "id": "No8f-sdtLDTz",
        "colab_type": "code",
        "colab": {}
      },
      "source": [
        "#Load the Drive helper and mount\n",
        "from google.colab import drive\n",
        "\n",
        "#This will prompt the authentification\n",
        "drive.mount('/content/drive')\n",
        "\n",
        "# To acces to the directory\n",
        "!ls '/content/drive/My Drive/TFG - Ariadna'\n",
        "myDrive = '/content/drive/My Drive/TFG - Ariadna'"
      ],
      "execution_count": 0,
      "outputs": []
    },
    {
      "cell_type": "markdown",
      "metadata": {
        "id": "wjIZCSgnyPiA",
        "colab_type": "text"
      },
      "source": [
        "# Import Data\n",
        "---\n",
        "Importing X_train, y_train, X_test and y_test from csv files."
      ]
    },
    {
      "cell_type": "code",
      "metadata": {
        "id": "grw_HU-BLMjr",
        "colab_type": "code",
        "colab": {}
      },
      "source": [
        "EXERCISE = 14\n",
        "PART = 4\n",
        "myDriveTest = '/content/drive/My Drive/TFG - Ariadna/Data_test/'\n",
        "features_extracted = [\"pitch\",\"centroid\", \"flatness\", \"rolloff\", \"zero-crossing\", \"mel_01\", \"mel_02\", \"mel_03\", \"mel_04\", \"mel_05\", \"mel_06\", \"mel_07\", \"mel_08\", \"mel_09\", \"mel_10\", \"mel_11\", \"mel_12\", \"mel_13\", \"mel_14\", \"mel_15\", \"label\"]\n",
        "\n",
        "\"\"\" ------------------------------- TRAIN ---------------------------------- \"\"\"\n",
        "# Read dataset to pandas dataframe\n",
        "if (PART != 0):\n",
        "    csv_filename = myDriveTest + 'ex' + str(EXERCISE) +'-noreb-p' + str(PART)+ '.csv'\n",
        "else:\n",
        "    csv_filename = myDriveTest + 'ex' + str(EXERCISE) +'-noreb.csv'\n",
        "dataset = pd.read_csv(csv_filename, names=features_extracted)\n",
        "print(csv_filename, ' extracted TRAIN data')\n",
        "\n",
        "# Get training dataset\n",
        "X_train = dataset.iloc[:, :-1].values  \n",
        "y_train = dataset.iloc[:, 20].values\n",
        "\n",
        "#print(dataset.iloc[1:10, :-1].values )\n",
        "print(\"Imported Train dataset\")\n",
        "\n",
        "\n",
        "\"\"\" ------------------------------- TEST ----------------------------------- \"\"\"\n",
        "# Read dataset to pandas dataframe\n",
        "if (PART != 0):\n",
        "    csv_filename = myDriveTest + 'ex' + str(EXERCISE) +'-noreb-test-p' + str(PART)+ '.csv'\n",
        "else:\n",
        "    csv_filename = myDriveTest + 'ex' + str(EXERCISE) +'-noreb-test.csv'\n",
        "dataset = pd.read_csv(csv_filename, names=features_extracted)\n",
        "print(csv_filename, ' extracted TEST data')\n",
        "\n",
        "# Get training dataset\n",
        "X_test = dataset.iloc[:, :-1].values  \n",
        "y_test = dataset.iloc[:, 20].values\n",
        "\n",
        "print(\"Imported Test dataset\")"
      ],
      "execution_count": 0,
      "outputs": []
    },
    {
      "cell_type": "markdown",
      "metadata": {
        "id": "A2vkBWZMLG6C",
        "colab_type": "text"
      },
      "source": [
        "# K-NN\n",
        "\n",
        "---\n",
        "\n",
        "Train the model using K-Nearest Neighbour classifier with k=2. The confusion matrix will be shown as well as the detailed report of results."
      ]
    },
    {
      "cell_type": "code",
      "metadata": {
        "id": "V5LZ6fMyLQR_",
        "colab_type": "code",
        "colab": {}
      },
      "source": [
        "\"\"\" ------------------------ TRAIN CLASSIFIER -------------------------------\"\"\"\n",
        "\n",
        "# Training\n",
        "KNN = KNeighborsClassifier(n_neighbors=2)  \n",
        "KNN.fit(X_train, y_train) \n",
        "print(\"Training done with k=2!\")\n",
        "\n",
        "\"\"\" ------------------------ RESULTS FOR K = 2 ------------------------------\"\"\"\n",
        "print(\"RESULTS FOR K=2\")\n",
        "print(\"-------------------------------------------------------\")\n",
        "#y_test = \"M\", \"E\", \"M\", \"E\"\n",
        "y_pred_KNN = KNN.predict(X_test)\n",
        "print(\"y predicted:   \", y_pred_KNN)\n",
        "print(\"y ground truth:\",y_test, \"\\n\")\n",
        "\n",
        "print(\"Confusion matrix: \\n\",confusion_matrix(y_test, y_pred_KNN))  \n",
        "print(classification_report(y_test, y_pred_KNN)) "
      ],
      "execution_count": 0,
      "outputs": []
    },
    {
      "cell_type": "code",
      "metadata": {
        "id": "heGXBHebLUhN",
        "colab_type": "code",
        "colab": {}
      },
      "source": [
        "error = []\n",
        "print(\"Ground truth:\",y_test, \"\\n\")\n",
        "\n",
        "# Calculating error for K values between 1 and 40\n",
        "for i in range(1, 9): \n",
        "    knn = KNeighborsClassifier(n_neighbors=i)\n",
        "    knn.fit(X_train, y_train)\n",
        "    pred_i = knn.predict(X_test)\n",
        "    error.append(np.mean(pred_i != y_test))\n",
        "    print(\"k = \", i,\": \", pred_i)\n",
        "    \n",
        "plt.figure(figsize=(12, 6))  \n",
        "plt.plot(range(1, 9), error, color='red', linestyle='dashed', marker='o',  \n",
        "         markerfacecolor='blue', markersize=10)\n",
        "plt.title('Error Rate K Value')  \n",
        "plt.xlabel('K Value')  \n",
        "plt.ylabel('Mean Error')\n",
        "\n",
        "if(PART == 0):\n",
        "    plt.savefig(myDrive + '/Figures/KNN-ex' + str(EXERCISE))\n",
        "else: plt.savefig(myDrive + '/Figures/KNN-ex' + str(EXERCISE) + '-p' + str(PART))"
      ],
      "execution_count": 0,
      "outputs": []
    },
    {
      "cell_type": "markdown",
      "metadata": {
        "id": "9V1q5T9NwNzV",
        "colab_type": "text"
      },
      "source": [
        "# LDA\n",
        "\n",
        "---\n",
        "\n",
        "Train the Linear Discriminant Analyisis with n=3 components. Then project all the data and classifies."
      ]
    },
    {
      "cell_type": "code",
      "metadata": {
        "id": "qKCl_wP2NH3-",
        "colab_type": "code",
        "colab": {}
      },
      "source": [
        "# Dimentionally reduction LDA (Linear Discriminiant Analysis)\n",
        "\n",
        "# 1. Instantiate the method and fit_transform the algotithm\n",
        "LDA = LinearDiscriminantAnalysis(n_components=3) # The n_components key word gives us the projection to the n most discriminative directions in the dataset. We set this parameter to two to get a transformation in two dimensional space.  \n",
        "LDA.fit(X_train,y_train)\n",
        "\n",
        "# 2. Predict\n",
        "y_pred_LDA = LDA.predict(X_test)\n",
        "\n",
        "print(\"y predicted:   \", y_pred_LDA)\n",
        "print(\"y ground truth:\",y_test)\n",
        "print(\"Accuracy:      \",LDA.score(X_test,y_test), \"\\n\")\n",
        "\n",
        "\n",
        "#print(\"Confusion matrix: \\n\",confusion_matrix(y_test, y_pred_LDA))  \n",
        "#print(classification_report(y_test, y_pred_LDA)) \n",
        "\n",
        "# Plot results\n",
        "data_projected = LDA.fit_transform(X_train,y_train)\n",
        "\n",
        "plt.scatter(data_projected[0,0], data_projected[0,1], color = 'blue')\n",
        "plt.scatter(data_projected[1:3,0], data_projected[1:3,1], color = 'orange')\n",
        "plt.scatter(data_projected[5:7,0], data_projected[5:7,1], color = 'orange')\n",
        "plt.scatter(data_projected[3:5,0], data_projected[3:5,1], color = 'purple')\n",
        "plt.scatter(data_projected[7:10,0], data_projected[7:10,1], color = 'purple')\n",
        "\n",
        "test_projected = LDA.transform(X_test)\n",
        "\n",
        "plt.scatter(test_projected[0,0], test_projected[0,1], color = 'yellow')\n",
        "plt.scatter(test_projected[1,0], test_projected[1,1], color = 'green')\n",
        "plt.scatter(test_projected[2,0], test_projected[2,1], color = 'yellow')\n",
        "plt.scatter(test_projected[3,0], test_projected[3,1], color = 'green')\n",
        "plt.title('Data projection - ex' + str(EXERCISE) + '-p' + str(PART))  \n",
        "plt.xlabel('Feature 1')  \n",
        "plt.ylabel('Feature 2')\n",
        "\n",
        "patch0 = mpatches.Patch(color='green', label='E-test')\n",
        "patch1 = mpatches.Patch(color='yellow', label='M-test')\n",
        "patch2 = mpatches.Patch(color='blue', label='E-train')\n",
        "patch3 = mpatches.Patch(color='orange', label='M-train')\n",
        "patch4 = mpatches.Patch(color='purple', label='L-train')\n",
        "\n",
        "plt.legend(handles=[patch0, patch1, patch2, patch3, patch4])\n",
        "\n",
        "if(PART == 0):\n",
        "    plt.savefig(myDrive + '/Figures/LDA-ex' + str(EXERCISE))\n",
        "else: plt.savefig(myDrive + '/Figures/LDA-ex' + str(EXERCISE) + '-p' + str(PART))"
      ],
      "execution_count": 0,
      "outputs": []
    },
    {
      "cell_type": "markdown",
      "metadata": {
        "id": "x-mm6ZHP17_E",
        "colab_type": "text"
      },
      "source": [
        "# KNN + LDA reduction\n",
        "---\n",
        "\n",
        "Use KNN classification after apply a reduction of dimention perform by LDA. The projection will be the same as the section before but the classification will be KNN."
      ]
    },
    {
      "cell_type": "code",
      "metadata": {
        "id": "JSW1CkjT2CDj",
        "colab_type": "code",
        "outputId": "47a49223-b71d-4b70-9f7f-77f94fbdc176",
        "colab": {
          "base_uri": "https://localhost:8080/",
          "height": 816
        }
      },
      "source": [
        "\"\"\" ------------------------ TRAIN CLASSIFIER -------------------------------\"\"\"\n",
        "\n",
        "# Training\n",
        "KNN = KNeighborsClassifier(n_neighbors=3)  \n",
        "\n",
        "# 1. Instantiate the method and fit_transform the algotithm\n",
        "LDA = LinearDiscriminantAnalysis(n_components=2) # The n_components key word gives us the projection to the n most discriminative directions in the dataset. We set this parameter to two to get a transformation in two dimensional space.  \n",
        "projected_data = LDA.fit_transform(X_train,y_train)\n",
        "projected_test = LDA.transform(X_test)\n",
        "\n",
        "KNN.fit(projected_data, y_train) \n",
        "print(\"Training done with k=2!\")\n",
        "\n",
        "\"\"\" ------------------------ RESULTS FOR K = 2 ------------------------------\"\"\"\n",
        "print(\"RESULTS FOR K=2\")\n",
        "print(\"-------------------------------------------------------\")\n",
        "#y_test = \"M\", \"E\", \"M\", \"E\"\n",
        "y_pred_KNN = KNN.predict(projected_test)\n",
        "print(\"y predicted:   \", y_pred_KNN)\n",
        "print(\"y ground truth:\",y_test, \"\\n\")\n",
        "\n",
        "print(\"Confusion matrix: \\n\",confusion_matrix(y_test, y_pred_KNN))  \n",
        "print(classification_report(y_test, y_pred_KNN)) \n",
        "\n",
        "\"\"\" -------------------------- PLOT RESULT --------------------------------- \"\"\"\n",
        "# Plot results\n",
        "# TRAIN\n",
        "plt.scatter(projected_data[0,0], projected_data[0,1], color = 'blue')\n",
        "plt.scatter(projected_data[1:3,0], projected_data[1:3,1], color = 'orange')\n",
        "plt.scatter(projected_data[5:7,0], projected_data[5:7,1], color = 'orange')\n",
        "plt.scatter(projected_data[3:5,0], projected_data[3:5,1], color = 'purple')\n",
        "plt.scatter(projected_data[7:10,0], projected_data[7:10,1], color = 'purple')\n",
        "\n",
        "# TEST\n",
        "plt.scatter(projected_test[0,0], projected_test[0,1], color = 'yellow')\n",
        "plt.scatter(projected_test[1,0], projected_test[1,1], color = 'green')\n",
        "plt.scatter(projected_test[2,0], projected_test[2,1], color = 'yellow')\n",
        "plt.scatter(projected_test[3,0], projected_test[3,1], color = 'green')"
      ],
      "execution_count": 92,
      "outputs": [
        {
          "output_type": "stream",
          "text": [
            "Training done with k=3!\n",
            "RESULTS FOR K=3\n",
            "-------------------------------------------------------\n",
            "y predicted:    ['M' 'L' 'M' 'L']\n",
            "y ground truth: ['M' 'E' 'M' 'E'] \n",
            "\n",
            "Confusion matrix: \n",
            " [[0 2 0]\n",
            " [0 0 0]\n",
            " [0 0 2]]\n",
            "              precision    recall  f1-score   support\n",
            "\n",
            "           E       0.00      0.00      0.00         2\n",
            "           L       0.00      0.00      0.00         0\n",
            "           M       1.00      1.00      1.00         2\n",
            "\n",
            "    accuracy                           0.50         4\n",
            "   macro avg       0.33      0.33      0.33         4\n",
            "weighted avg       0.50      0.50      0.50         4\n",
            "\n"
          ],
          "name": "stdout"
        },
        {
          "output_type": "stream",
          "text": [
            "/usr/local/lib/python3.6/dist-packages/sklearn/discriminant_analysis.py:466: ChangedBehaviorWarning: n_components cannot be larger than min(n_features, n_classes - 1). Using min(n_features, n_classes - 1) = min(20, 3 - 1) = 2 components.\n",
            "  ChangedBehaviorWarning)\n",
            "/usr/local/lib/python3.6/dist-packages/sklearn/discriminant_analysis.py:472: FutureWarning: In version 0.23, setting n_components > min(n_features, n_classes - 1) will raise a ValueError. You should set n_components to None (default), or a value smaller or equal to min(n_features, n_classes - 1).\n",
            "  warnings.warn(future_msg, FutureWarning)\n",
            "/usr/local/lib/python3.6/dist-packages/sklearn/discriminant_analysis.py:388: UserWarning: Variables are collinear.\n",
            "  warnings.warn(\"Variables are collinear.\")\n",
            "/usr/local/lib/python3.6/dist-packages/sklearn/metrics/classification.py:1437: UndefinedMetricWarning: Precision and F-score are ill-defined and being set to 0.0 in labels with no predicted samples.\n",
            "  'precision', 'predicted', average, warn_for)\n",
            "/usr/local/lib/python3.6/dist-packages/sklearn/metrics/classification.py:1439: UndefinedMetricWarning: Recall and F-score are ill-defined and being set to 0.0 in labels with no true samples.\n",
            "  'recall', 'true', average, warn_for)\n"
          ],
          "name": "stderr"
        },
        {
          "output_type": "execute_result",
          "data": {
            "text/plain": [
              "<matplotlib.collections.PathCollection at 0x7f5bd8114b70>"
            ]
          },
          "metadata": {
            "tags": []
          },
          "execution_count": 92
        },
        {
          "output_type": "display_data",
          "data": {
            "image/png": "[encoded data removed]",
            "text/plain": [
              "<Figure size 432x288 with 1 Axes>"
            ]
          },
          "metadata": {
            "tags": []
          }
        }
      ]
    },
    {
      "cell_type": "code",
      "metadata": {
        "id": "AkD-nEDh2x2e",
        "colab_type": "code",
        "colab": {}
      },
      "source": [
        "error = []\n",
        "print(\"Ground truth:\",y_test, \"\\n\")\n",
        "\n",
        "# Calculating error for K values between 1 and 40\n",
        "for i in range(1, 9): \n",
        "    knn = KNeighborsClassifier(n_neighbors=i)\n",
        "    \n",
        "    lda = LinearDiscriminantAnalysis(n_components=3) # The n_components key word gives us the projection to the n most discriminative directions in the dataset. We set this parameter to two to get a transformation in two dimensional space.  \n",
        "    projected_data = lda.fit_transform(X_train,y_train)\n",
        "    projected_test = lda.transform(X_test)\n",
        "\n",
        "    knn.fit(projected_data, y_train)\n",
        "    pred_i = knn.predict(projected_test)\n",
        "    error.append(np.mean(pred_i != y_test))\n",
        "    print(\"k = \", i,\": \", pred_i)\n",
        "    \n",
        "plt.figure(figsize=(12, 6))  \n",
        "plt.plot(range(1, 9), error, color='red', linestyle='dashed', marker='o',  \n",
        "         markerfacecolor='blue', markersize=10)\n",
        "plt.title('Error Rate K Value')  \n",
        "plt.xlabel('K Value')  \n",
        "plt.ylabel('Mean Error') \n",
        "\n",
        "if(PART == 0):\n",
        "    plt.savefig(myDrive + '/Figures/KNN+LDA-ex' + str(EXERCISE))\n",
        "else: plt.savefig(myDrive + '/Figures/KNN+LDA-ex' + str(EXERCISE) + '-p' + str(PART))"
      ],
      "execution_count": 0,
      "outputs": []
    }
  ]
}